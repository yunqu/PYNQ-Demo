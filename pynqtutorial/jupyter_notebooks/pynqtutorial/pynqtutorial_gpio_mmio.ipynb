{
 "cells": [
  {
   "cell_type": "markdown",
   "metadata": {},
   "source": [
    "# PYNQ tutorial: using GPIO and MMIO\n",
    "\n",
    "\n",
    "## Contents\n",
    "\n",
    "* [Goal](#Goal)\n",
    "\n",
    "\n",
    "* [Tutorial overlay](#Tutorial-overlay)\n",
    "\n",
    "\n",
    "* [MMIO class](#MMIO-class)\n",
    "\n",
    "\n",
    "* [GPIO class](#GPIO-class)\n"
   ]
  },
  {
   "cell_type": "markdown",
   "metadata": {},
   "source": [
    "## Goal\n",
    "\n",
    "The aim of this notebook is to show how to use the GPIO and MMIO classes. This example uses the tutorial overlay on PYNQ-Z1 board. \n"
   ]
  },
  {
   "cell_type": "code",
   "execution_count": 1,
   "metadata": {
    "collapsed": true
   },
   "outputs": [],
   "source": [
    "from pynq import Overlay\n",
    "from pynq import GPIO\n",
    "from pynq import MMIO"
   ]
  },
  {
   "cell_type": "markdown",
   "metadata": {},
   "source": [
    "## Tutorial overlay\n",
    "\n",
    "The tutorial overlay has been created to allow testing of the PYNQ interface classes, GPIO, MMIO, Xlnk, and DMA. In the tutorial overlay, there is a GPIO controller in the PL which is connected to 2 LEDs, and 2 push buttons on the PYNQ-Z1. GPIO from the Zynq PS are also connected to 2 LEDs and 2 push buttons. There are also two IOPs, and DMA controllers connected by a FIFO in loopback mode. Only the PS and PL GPIO will be used in this example. \n",
    "\n",
    "The GPIO controller in the PL is a memory mapped IP block, and will be accessed from the PYNQ MMIO class. \n",
    "\n",
    "The PS GPIO controller pins are also connected to 2 LEDs and 2 buttons through the EMIO, and will be access through the PYNQ GPIO class."
   ]
  },
  {
   "cell_type": "markdown",
   "metadata": {},
   "source": [
    "### 1. Download the tutorial overlay\n",
    "\n",
    "The `pynqtutorial.bit` and `pynqtutorial.tcl` must be in the ``pynq/overlays/pynqtutorial`` folder before the next cell can be executed.\n",
    "\n",
    "Another way to download the overlay is to instantiate the PynqTutorialOverlay class:\n",
    "```python\n",
    "from pynq.overlays.pynqtutorial import PynqTutorialOverlay\n",
    "overlay = PynqTutorialOverlay(\"pynqtutorial.bit\")\n",
    "```"
   ]
  },
  {
   "cell_type": "code",
   "execution_count": 2,
   "metadata": {},
   "outputs": [],
   "source": [
    "overlay = Overlay(\"pynqtutorial.bit\")\n",
    "overlay.download()"
   ]
  },
  {
   "cell_type": "markdown",
   "metadata": {},
   "source": [
    "### 2. Check overlay status\n",
    "Check the IP dictionary of the overlay. This dictionary will show all the IPs available on the bitstream."
   ]
  },
  {
   "cell_type": "code",
   "execution_count": 3,
   "metadata": {},
   "outputs": [
    {
     "name": "stdout",
     "output_type": "stream",
     "text": [
      "{'axi_dma_from_pl_to_ps': {'addr_range': 65536,\n",
      "                           'driver': <class 'pynq.overlay.DefaultIP'>,\n",
      "                           'fullpath': 'axi_dma_from_pl_to_ps',\n",
      "                           'gpio': {},\n",
      "                           'interrupts': {'s2mm_introut': {'controller': 'system_interrupts',\n",
      "                                                           'fullpath': 'axi_dma_from_pl_to_ps/s2mm_introut',\n",
      "                                                           'index': 1}},\n",
      "                           'phys_addr': 1078001664,\n",
      "                           'state': None,\n",
      "                           'type': 'xilinx.com:ip:axi_dma:7.1'},\n",
      " 'axi_dma_from_ps_to_pl': {'addr_range': 65536,\n",
      "                           'driver': <class 'pynq.overlay.DefaultIP'>,\n",
      "                           'fullpath': 'axi_dma_from_ps_to_pl',\n",
      "                           'gpio': {},\n",
      "                           'interrupts': {'mm2s_introut': {'controller': 'system_interrupts',\n",
      "                                                           'fullpath': 'axi_dma_from_ps_to_pl/mm2s_introut',\n",
      "                                                           'index': 0}},\n",
      "                           'phys_addr': 1077936128,\n",
      "                           'state': None,\n",
      "                           'type': 'xilinx.com:ip:axi_dma:7.1'},\n",
      " 'btns_gpio': {'addr_range': 65536,\n",
      "               'driver': <class 'pynq.overlay.DefaultIP'>,\n",
      "               'fullpath': 'btns_gpio',\n",
      "               'gpio': {},\n",
      "               'interrupts': {'ip2intc_irpt': {'controller': 'system_interrupts',\n",
      "                                               'fullpath': 'btns_gpio/ip2intc_irpt',\n",
      "                                               'index': 4}},\n",
      "               'phys_addr': 1092681728,\n",
      "               'state': None,\n",
      "               'type': 'xilinx.com:ip:axi_gpio:2.0'},\n",
      " 'mb_bram_ctrl_1': {'addr_range': 65536,\n",
      "                    'driver': <class 'pynq.overlay.DefaultIP'>,\n",
      "                    'fullpath': 'mb_bram_ctrl_1',\n",
      "                    'gpio': {},\n",
      "                    'interrupts': {},\n",
      "                    'phys_addr': 1073741824,\n",
      "                    'state': None,\n",
      "                    'type': 'xilinx.com:ip:axi_bram_ctrl:4.0'},\n",
      " 'mb_bram_ctrl_2': {'addr_range': 65536,\n",
      "                    'driver': <class 'pynq.overlay.DefaultIP'>,\n",
      "                    'fullpath': 'mb_bram_ctrl_2',\n",
      "                    'gpio': {},\n",
      "                    'interrupts': {},\n",
      "                    'phys_addr': 1107296256,\n",
      "                    'state': None,\n",
      "                    'type': 'xilinx.com:ip:axi_bram_ctrl:4.0'},\n",
      " 'rgbleds_gpio': {'addr_range': 65536,\n",
      "                  'driver': <class 'pynq.overlay.DefaultIP'>,\n",
      "                  'fullpath': 'rgbleds_gpio',\n",
      "                  'gpio': {},\n",
      "                  'interrupts': {},\n",
      "                  'phys_addr': 1092747264,\n",
      "                  'state': None,\n",
      "                  'type': 'xilinx.com:ip:axi_gpio:2.0'},\n",
      " 'swsleds_gpio': {'addr_range': 65536,\n",
      "                  'driver': <class 'pynq.overlay.DefaultIP'>,\n",
      "                  'fullpath': 'swsleds_gpio',\n",
      "                  'gpio': {},\n",
      "                  'interrupts': {'ip2intc_irpt': {'controller': 'system_interrupts',\n",
      "                                                  'fullpath': 'swsleds_gpio/ip2intc_irpt',\n",
      "                                                  'index': 5}},\n",
      "                  'phys_addr': 1092616192,\n",
      "                  'state': None,\n",
      "                  'type': 'xilinx.com:ip:axi_gpio:2.0'},\n",
      " 'system_interrupts': {'addr_range': 65536,\n",
      "                       'driver': <class 'pynq.overlay.DefaultIP'>,\n",
      "                       'fullpath': 'system_interrupts',\n",
      "                       'gpio': {},\n",
      "                       'interrupts': {},\n",
      "                       'phys_addr': 1098907648,\n",
      "                       'state': None,\n",
      "                       'type': 'xilinx.com:ip:axi_intc:4.1'}}\n"
     ]
    }
   ],
   "source": [
    "from pprint import pprint\n",
    "\n",
    "pprint(overlay.ip_dict)"
   ]
  },
  {
   "cell_type": "markdown",
   "metadata": {},
   "source": [
    "Note that the `phys_addr` (physical address) and `addr_range` (address range) are formatted in decimal."
   ]
  },
  {
   "cell_type": "markdown",
   "metadata": {},
   "source": [
    "## GPIO class\n",
    "\n",
    "The GPIO class will be used to access the GPIO connected to the PL via the EMIO. "
   ]
  },
  {
   "cell_type": "markdown",
   "metadata": {},
   "source": [
    "### 1. Controlling the LEDs\n",
    "\n",
    "In the tutorial overlay, EMIO GPIO pins 7 and 8 are connected to on-board LED 2 (LD2) and LED 3 (LD3). GPIO pins need a lookup to determine the Linux number of the GPIO pin. This is done with ``get_gpio_pin()`` from the GPIO class. Note that the next cell should be executed once only, or the following cells will give an error when executed. "
   ]
  },
  {
   "cell_type": "code",
   "execution_count": 4,
   "metadata": {},
   "outputs": [],
   "source": [
    "led2 = GPIO(GPIO.get_gpio_pin(7), 'out')\n",
    "led3 = GPIO(GPIO.get_gpio_pin(8), 'out')"
   ]
  },
  {
   "cell_type": "markdown",
   "metadata": {},
   "source": [
    "The following cell will turn off LD2, and turn on LD3."
   ]
  },
  {
   "cell_type": "code",
   "execution_count": 5,
   "metadata": {},
   "outputs": [],
   "source": [
    "led2.write(0)\n",
    "led3.write(1)"
   ]
  },
  {
   "cell_type": "markdown",
   "metadata": {},
   "source": [
    "The following cell will turn on LD2, and turn off LD3."
   ]
  },
  {
   "cell_type": "code",
   "execution_count": 6,
   "metadata": {
    "collapsed": true
   },
   "outputs": [],
   "source": [
    "led2.write(1)\n",
    "led3.write(0)"
   ]
  },
  {
   "cell_type": "markdown",
   "metadata": {},
   "source": [
    "The following cell will turn off both LD2 and LD3."
   ]
  },
  {
   "cell_type": "code",
   "execution_count": 7,
   "metadata": {
    "collapsed": true
   },
   "outputs": [],
   "source": [
    "led2.write(0)\n",
    "led3.write(0)"
   ]
  },
  {
   "cell_type": "markdown",
   "metadata": {},
   "source": [
    "### 2. Reading the push buttons\n",
    "Push button 2 (BTN2) and push button 3 (BTN3) on the board are connected to EMIO GPIO 0 and 1. Using a similar approach as before, we can access the on-board buttons on PYNQ-Z1."
   ]
  },
  {
   "cell_type": "code",
   "execution_count": 8,
   "metadata": {
    "collapsed": true
   },
   "outputs": [],
   "source": [
    "button2 = GPIO(GPIO.get_gpio_pin(0), 'in')\n",
    "button3 = GPIO(GPIO.get_gpio_pin(1), 'in')"
   ]
  },
  {
   "cell_type": "markdown",
   "metadata": {},
   "source": [
    "Now press BTN3 only. Keep pressing and run the following cell."
   ]
  },
  {
   "cell_type": "code",
   "execution_count": 9,
   "metadata": {},
   "outputs": [
    {
     "name": "stdout",
     "output_type": "stream",
     "text": [
      "Push button 2 reads 0.\n",
      "Push button 3 reads 1.\n"
     ]
    }
   ],
   "source": [
    "print(f'Push button 2 reads {button2.read()}.')\n",
    "print(f'Push button 3 reads {button3.read()}.')"
   ]
  },
  {
   "cell_type": "markdown",
   "metadata": {},
   "source": [
    "## MMIO class\n",
    "\n",
    "The PL GPIO controller has two channels. Channel 1 is mapped to two push buttons on the PYNQ-Z1. Channel 2 is mapped to two LEDs on the board. Channel 1 is mapped to register 0 in the GPIO instance, and channel 2 is mapped to register 0x8. \n",
    "\n",
    "MMIO can map arrays, or a range of addresses. \n",
    "\n",
    "A single MMIO instance with the following conditions is able to access the data for both channels of the GPIO controller:\n",
    "* Starting at the base address of the GPIO controller.\n",
    "* Covering the address range of 3 consecutive registers (register 0x0, 0x4, and 0x8).\n",
    "\n",
    "Note that the second register 0x4 will be mapped to the same MMIO, but this is not mandatory. \n",
    "\n",
    "In the following example, 2 MMIO instances will be created, each mapped to a single register: channel 1 (0x0) and channel 2 (0x8)."
   ]
  },
  {
   "cell_type": "markdown",
   "metadata": {},
   "source": [
    "### 1. Reading the push buttons\n",
    "\n",
    "The two push buttons (BTN0 and BTN1) are connected to PL GPIO controller and will be accessed from the MMIO class. They are mapped to register at address offset 0, and can be accessed by reading the base address of the PL GPIO controller.\n",
    "\n",
    "An instance of the MMIO is created, called `buttons_mmio`; the base address of the PL GPIO controller will be mapped to this MMIO instance."
   ]
  },
  {
   "cell_type": "code",
   "execution_count": 10,
   "metadata": {},
   "outputs": [
    {
     "name": "stdout",
     "output_type": "stream",
     "text": [
      "Physical address of button: 0x41210000\n"
     ]
    }
   ],
   "source": [
    "button_address = overlay.ip_dict['btns_gpio']['phys_addr']\n",
    "print(\"Physical address of button: 0x\" + format(button_address, '02x'))"
   ]
  },
  {
   "cell_type": "code",
   "execution_count": 11,
   "metadata": {
    "collapsed": true
   },
   "outputs": [],
   "source": [
    "buttons = MMIO(button_address) "
   ]
  },
  {
   "cell_type": "markdown",
   "metadata": {},
   "source": [
    "We use the following cell as an example to read the push button values; this value will be a 2-bit value read from BTN0 and BTN1:\n",
    "* If neither button is pressed, the value will be 0.\n",
    "* If only push button 0 is pressed, the value will be 1.\n",
    "* If only push button 1 is pressed, the value will be 2.\n",
    "* If both buttons are pressed, the value will be 3."
   ]
  },
  {
   "cell_type": "code",
   "execution_count": 12,
   "metadata": {},
   "outputs": [
    {
     "data": {
      "text/plain": [
       "2"
      ]
     },
     "execution_count": 12,
     "metadata": {},
     "output_type": "execute_result"
    }
   ],
   "source": [
    "buttons.read()"
   ]
  },
  {
   "cell_type": "markdown",
   "metadata": {},
   "source": [
    "### 2. Controlling the LEDs\n",
    "In the next cell, let us repeat the process for LEDs."
   ]
  },
  {
   "cell_type": "code",
   "execution_count": 13,
   "metadata": {},
   "outputs": [
    {
     "name": "stdout",
     "output_type": "stream",
     "text": [
      "Physical address of LED: 0x41200000\n"
     ]
    }
   ],
   "source": [
    "led_address = overlay.ip_dict['swsleds_gpio']['phys_addr']\n",
    "print(\"Physical address of LED: 0x\" + format(led_address, '02x'))"
   ]
  },
  {
   "cell_type": "markdown",
   "metadata": {},
   "source": [
    "The address offset for channel 2 of the GPIO is 0x8."
   ]
  },
  {
   "cell_type": "code",
   "execution_count": 14,
   "metadata": {},
   "outputs": [],
   "source": [
    "CH2_OFFSET = 0x8\n",
    "led_address = overlay.ip_dict['swsleds_gpio']['phys_addr']\n",
    "leds = MMIO(led_address + CH2_OFFSET)"
   ]
  },
  {
   "cell_type": "markdown",
   "metadata": {},
   "source": [
    "The following cells will write to register 0x8. The lower two bits will be written to LEDs LD1 and LD0.\n",
    "\n",
    "Let's turn on LD0 only."
   ]
  },
  {
   "cell_type": "code",
   "execution_count": 15,
   "metadata": {},
   "outputs": [],
   "source": [
    "leds.write(0, 1)"
   ]
  },
  {
   "cell_type": "markdown",
   "metadata": {},
   "source": [
    "Now turn on LD1 only."
   ]
  },
  {
   "cell_type": "code",
   "execution_count": 16,
   "metadata": {
    "collapsed": true
   },
   "outputs": [],
   "source": [
    "leds.write(0, 2)"
   ]
  },
  {
   "cell_type": "markdown",
   "metadata": {},
   "source": [
    "Turn both LD0 and LD1 off."
   ]
  },
  {
   "cell_type": "code",
   "execution_count": 17,
   "metadata": {
    "collapsed": true
   },
   "outputs": [],
   "source": [
    "leds.write(0, 0)"
   ]
  }
 ],
 "metadata": {
  "kernelspec": {
   "display_name": "Python 3",
   "language": "python",
   "name": "python3"
  },
  "language_info": {
   "codemirror_mode": {
    "name": "ipython",
    "version": 3
   },
   "file_extension": ".py",
   "mimetype": "text/x-python",
   "name": "python",
   "nbconvert_exporter": "python",
   "pygments_lexer": "ipython3",
   "version": "3.6.0"
  }
 },
 "nbformat": 4,
 "nbformat_minor": 2
}
