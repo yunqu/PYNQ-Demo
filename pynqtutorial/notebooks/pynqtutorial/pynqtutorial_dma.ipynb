{
 "cells": [
  {
   "cell_type": "markdown",
   "metadata": {},
   "source": [
    "# PYNQ tutorial: DMA to streamed interfaces\n",
    "\n",
    "Overlay consists of two DMAs and an AXI Stream FIFO (input and output AXI stream interfaces). The FIFO represents an accelerator.\n",
    "\n",
    "* The first DMA with read channel enabled is connected from DDR to IP input stream (reading from DDR, and sending to AXI stream).\n",
    "* The second DMA has a write channel enabled and is connected to IP output stream to DDR (receiving from AXI stream, and writing to DDR memory).\n",
    "\n",
    "There are other IP in the design which will be ignored for now.\n",
    "\n",
    "![](data/dma_stream_example.png)"
   ]
  },
  {
   "cell_type": "markdown",
   "metadata": {},
   "source": [
    "## 1. Downloading overlay\n",
    "The overlay can be downloaded automatically when instantiating an overlay class."
   ]
  },
  {
   "cell_type": "code",
   "execution_count": 1,
   "metadata": {
    "collapsed": true
   },
   "outputs": [],
   "source": [
    "from pynq.overlays.pynqtutorial import PynqTutorialOverlay\n",
    "\n",
    "overlay = PynqTutorialOverlay(\"pynqtutorial.bit\")"
   ]
  },
  {
   "cell_type": "markdown",
   "metadata": {},
   "source": [
    "We can also check all the IPs on this overlay."
   ]
  },
  {
   "cell_type": "code",
   "execution_count": 2,
   "metadata": {},
   "outputs": [
    {
     "name": "stdout",
     "output_type": "stream",
     "text": [
      "{'axi_dma_from_pl_to_ps': {'addr_range': 65536,\n",
      "                           'driver': <class 'pynq.lib.dma.DMA'>,\n",
      "                           'fullpath': 'axi_dma_from_pl_to_ps',\n",
      "                           'gpio': {},\n",
      "                           'interrupts': {'s2mm_introut': {'controller': 'system_interrupts',\n",
      "                                                           'fullpath': 'axi_dma_from_pl_to_ps/s2mm_introut',\n",
      "                                                           'index': 1}},\n",
      "                           'phys_addr': 1078001664,\n",
      "                           'state': None,\n",
      "                           'type': 'xilinx.com:ip:axi_dma:7.1'},\n",
      " 'axi_dma_from_ps_to_pl': {'addr_range': 65536,\n",
      "                           'driver': <class 'pynq.lib.dma.DMA'>,\n",
      "                           'fullpath': 'axi_dma_from_ps_to_pl',\n",
      "                           'gpio': {},\n",
      "                           'interrupts': {'mm2s_introut': {'controller': 'system_interrupts',\n",
      "                                                           'fullpath': 'axi_dma_from_ps_to_pl/mm2s_introut',\n",
      "                                                           'index': 0}},\n",
      "                           'phys_addr': 1077936128,\n",
      "                           'state': None,\n",
      "                           'type': 'xilinx.com:ip:axi_dma:7.1'},\n",
      " 'btns_gpio': {'addr_range': 65536,\n",
      "               'driver': <class 'pynq.lib.axigpio.AxiGPIO'>,\n",
      "               'fullpath': 'btns_gpio',\n",
      "               'gpio': {},\n",
      "               'interrupts': {'ip2intc_irpt': {'controller': 'system_interrupts',\n",
      "                                               'fullpath': 'btns_gpio/ip2intc_irpt',\n",
      "                                               'index': 4}},\n",
      "               'phys_addr': 1092681728,\n",
      "               'state': None,\n",
      "               'type': 'xilinx.com:ip:axi_gpio:2.0'},\n",
      " 'mb_bram_ctrl_1': {'addr_range': 65536,\n",
      "                    'driver': <class 'pynq.overlay.DefaultIP'>,\n",
      "                    'fullpath': 'mb_bram_ctrl_1',\n",
      "                    'gpio': {},\n",
      "                    'interrupts': {},\n",
      "                    'phys_addr': 1073741824,\n",
      "                    'state': None,\n",
      "                    'type': 'xilinx.com:ip:axi_bram_ctrl:4.0'},\n",
      " 'mb_bram_ctrl_2': {'addr_range': 65536,\n",
      "                    'driver': <class 'pynq.overlay.DefaultIP'>,\n",
      "                    'fullpath': 'mb_bram_ctrl_2',\n",
      "                    'gpio': {},\n",
      "                    'interrupts': {},\n",
      "                    'phys_addr': 1107296256,\n",
      "                    'state': None,\n",
      "                    'type': 'xilinx.com:ip:axi_bram_ctrl:4.0'},\n",
      " 'rgbleds_gpio': {'addr_range': 65536,\n",
      "                  'driver': <class 'pynq.lib.axigpio.AxiGPIO'>,\n",
      "                  'fullpath': 'rgbleds_gpio',\n",
      "                  'gpio': {},\n",
      "                  'interrupts': {},\n",
      "                  'phys_addr': 1092747264,\n",
      "                  'state': None,\n",
      "                  'type': 'xilinx.com:ip:axi_gpio:2.0'},\n",
      " 'swsleds_gpio': {'addr_range': 65536,\n",
      "                  'driver': <class 'pynq.lib.axigpio.AxiGPIO'>,\n",
      "                  'fullpath': 'swsleds_gpio',\n",
      "                  'gpio': {},\n",
      "                  'interrupts': {'ip2intc_irpt': {'controller': 'system_interrupts',\n",
      "                                                  'fullpath': 'swsleds_gpio/ip2intc_irpt',\n",
      "                                                  'index': 5}},\n",
      "                  'phys_addr': 1092616192,\n",
      "                  'state': None,\n",
      "                  'type': 'xilinx.com:ip:axi_gpio:2.0'},\n",
      " 'system_interrupts': {'addr_range': 65536,\n",
      "                       'driver': <class 'pynq.overlay.DefaultIP'>,\n",
      "                       'fullpath': 'system_interrupts',\n",
      "                       'gpio': {},\n",
      "                       'interrupts': {},\n",
      "                       'phys_addr': 1098907648,\n",
      "                       'state': None,\n",
      "                       'type': 'xilinx.com:ip:axi_intc:4.1'}}\n"
     ]
    }
   ],
   "source": [
    "from pprint import pprint\n",
    "\n",
    "pprint(overlay.ip_dict)"
   ]
  },
  {
   "cell_type": "markdown",
   "metadata": {},
   "source": [
    "## 2. Create DMA instances\n",
    "\n",
    "Using the IP dictionary listed above, we can just provide the corresponding dictionary as an input parameter to the DMA python class."
   ]
  },
  {
   "cell_type": "code",
   "execution_count": 3,
   "metadata": {
    "collapsed": true
   },
   "outputs": [],
   "source": [
    "from pynq.lib import DMA\n",
    "\n",
    "dma_ps2pl_description = overlay.ip_dict['axi_dma_from_ps_to_pl']\n",
    "dma_ps2pl = DMA(dma_ps2pl_description)\n",
    "\n",
    "dma_pl2ps_description = overlay.ip_dict['axi_dma_from_pl_to_ps']\n",
    "dma_pl2ps = DMA(dma_pl2ps_description)"
   ]
  },
  {
   "cell_type": "markdown",
   "metadata": {
    "collapsed": true
   },
   "source": [
    "## 3. Debug DMA\n",
    "\n",
    "In the following cell, we will create some useful functions to print control and status information from the DMA instances."
   ]
  },
  {
   "cell_type": "code",
   "execution_count": 4,
   "metadata": {
    "collapsed": true
   },
   "outputs": [],
   "source": [
    "from pynq import MMIO\n",
    "\n",
    "overlay.ip_dict['axi_dma_from_ps_to_pl']['phys_addr']\n",
    "\n",
    "\n",
    "dma_ps2pl_controller = MMIO(\n",
    "    dma_ps2pl_description['phys_addr'], 128)\n",
    "dma_pl2ps_controller = MMIO(\n",
    "    dma_pl2ps_description['phys_addr'], 128)\n",
    "\n",
    "def print_dma_status():\n",
    "    print(\"====  From memory to FIFO  ====\")\n",
    "    print(\"MM to Stream Control: 0x\" + \n",
    "          format(dma_ps2pl_controller.read(0x0), '02x'))\n",
    "    print(\"             Binary : 0b\" + \n",
    "          format(dma_ps2pl_controller.read(0x0), '0b'))\n",
    "    print(\"MM to Stream Status : 0x\" + \n",
    "          format(dma_ps2pl_controller.read(0x4), '02x'))\n",
    "    print(\"             Binary : 0b\" + \n",
    "          format(dma_ps2pl_controller.read(0x4), '0b'))\n",
    "    \n",
    "    print(\"\\n==== From FIFO to Memory ====\")\n",
    "    print(\"Stream to MM Control: 0x\" + \n",
    "          format(dma_pl2ps_controller.read(0x30), '02x'))\n",
    "    print(\"             Binary : 0b\" + \n",
    "          format(dma_pl2ps_controller.read(0x30), '0b'))\n",
    "    print(\"Stream to MM Status : 0x\" + \n",
    "          format(dma_pl2ps_controller.read(0x34), '02x'))\n",
    "    print(\"             Binary : 0b\" + \n",
    "          format(dma_pl2ps_controller.read(0x34), '0b'))"
   ]
  },
  {
   "cell_type": "markdown",
   "metadata": {},
   "source": [
    "The bits for control registers are:\n",
    "* bit 1 : This bit is always 1.\n",
    "* bit 16 : IRQ threshold.\n",
    "\n",
    "The bits for status registers are:\n",
    "* bit 0 : If it is 1, it means the DMA is halted."
   ]
  },
  {
   "cell_type": "code",
   "execution_count": 5,
   "metadata": {},
   "outputs": [
    {
     "name": "stdout",
     "output_type": "stream",
     "text": [
      "====  From memory to FIFO  ====\n",
      "MM to Stream Control: 0x11003\n",
      "             Binary : 0b10001000000000011\n",
      "MM to Stream Status : 0x00\n",
      "             Binary : 0b0\n",
      "\n",
      "==== From FIFO to Memory ====\n",
      "Stream to MM Control: 0x11003\n",
      "             Binary : 0b10001000000000011\n",
      "Stream to MM Status : 0x00\n",
      "             Binary : 0b0\n"
     ]
    }
   ],
   "source": [
    "print_dma_status()"
   ]
  },
  {
   "cell_type": "markdown",
   "metadata": {},
   "source": [
    "## 4. Read DMA\n",
    "We will read some data from memory, and write to FIFO in the following cells.\n",
    "\n",
    "The first step is to create the a contiguous memory block. We will use the `Xlnk()` driver."
   ]
  },
  {
   "cell_type": "code",
   "execution_count": 6,
   "metadata": {
    "collapsed": true
   },
   "outputs": [],
   "source": [
    "import numpy as np\n",
    "from pynq import Xlnk\n",
    "\n",
    "data_size = 10\n",
    "mmu = Xlnk()"
   ]
  },
  {
   "cell_type": "markdown",
   "metadata": {},
   "source": [
    "The CMA array created by this driver can be used similarly as a numpy array. We can write some test data to the array. The data will be transferred by the DMA to the FIFO. "
   ]
  },
  {
   "cell_type": "code",
   "execution_count": 7,
   "metadata": {
    "collapsed": true
   },
   "outputs": [],
   "source": [
    "cma_array_send = mmu.cma_array([1, data_size])\n",
    "for i in range(data_size):\n",
    "    cma_array_send[0][i] = i + 0xcafe0000"
   ]
  },
  {
   "cell_type": "markdown",
   "metadata": {},
   "source": [
    "Let's check the contents of the array. The data in the following cell will be sent from PS (DDR memory) to PL (streaming FIFO)."
   ]
  },
  {
   "cell_type": "code",
   "execution_count": 8,
   "metadata": {
    "scrolled": true
   },
   "outputs": [
    {
     "name": "stdout",
     "output_type": "stream",
     "text": [
      "0xcafe0000\n",
      "0xcafe0001\n",
      "0xcafe0002\n",
      "0xcafe0003\n",
      "0xcafe0004\n",
      "0xcafe0005\n",
      "0xcafe0006\n",
      "0xcafe0007\n",
      "0xcafe0008\n",
      "0xcafe0009\n"
     ]
    }
   ],
   "source": [
    "for i in range(data_size):\n",
    "    print('0x' + format(cma_array_send[0][i], '02x'))"
   ]
  },
  {
   "cell_type": "markdown",
   "metadata": {},
   "source": [
    "Now we are ready to carry out DMA transfer from a memory block in DDR to FIFO."
   ]
  },
  {
   "cell_type": "code",
   "execution_count": 9,
   "metadata": {
    "collapsed": true
   },
   "outputs": [],
   "source": [
    "dma_ps2pl.sendchannel.transfer(cma_array_send)"
   ]
  },
  {
   "cell_type": "markdown",
   "metadata": {},
   "source": [
    "Let's check the status of the DMA.\n",
    "\n",
    "Control register:\n",
    "* bit 0 : Start the DMA if the value is 1, else halt the DMA.\n",
    "* bit 1 : Always 1\n",
    "* bit 16 : IRQ threshold.\n",
    "\n",
    "Status register:\n",
    "* bit 0 : 0 means the DMA is halted.\n",
    "* bit 1 : 1 means the DMA is idle.\n",
    "* bit 12 : Interrupt on complete."
   ]
  },
  {
   "cell_type": "code",
   "execution_count": 10,
   "metadata": {},
   "outputs": [
    {
     "name": "stdout",
     "output_type": "stream",
     "text": [
      "====  From memory to FIFO  ====\n",
      "MM to Stream Control: 0x11003\n",
      "             Binary : 0b10001000000000011\n",
      "MM to Stream Status : 0x1002\n",
      "             Binary : 0b1000000000010\n",
      "\n",
      "==== From FIFO to Memory ====\n",
      "Stream to MM Control: 0x11003\n",
      "             Binary : 0b10001000000000011\n",
      "Stream to MM Status : 0x00\n",
      "             Binary : 0b0\n"
     ]
    }
   ],
   "source": [
    "print_dma_status()"
   ]
  },
  {
   "cell_type": "markdown",
   "metadata": {},
   "source": [
    "## 5. Write DMA\n",
    "Let's read the data back from FIFO stream, and write to MM memory. The steps are similar.\n",
    "\n",
    "We will prepare an empty array before reading data back from FIFO."
   ]
  },
  {
   "cell_type": "code",
   "execution_count": 11,
   "metadata": {},
   "outputs": [
    {
     "name": "stdout",
     "output_type": "stream",
     "text": [
      "0x00\n",
      "0x00\n",
      "0x00\n",
      "0x00\n",
      "0x00\n",
      "0x00\n",
      "0x00\n",
      "0x00\n",
      "0x00\n",
      "0x00\n"
     ]
    }
   ],
   "source": [
    "cma_array_recv = mmu.cma_array([1, data_size])\n",
    "for i in range(data_size):\n",
    "    print('0x' + format(cma_array_recv[0][i], '02x'))"
   ]
  },
  {
   "cell_type": "code",
   "execution_count": 12,
   "metadata": {
    "collapsed": true
   },
   "outputs": [],
   "source": [
    "dma_pl2ps.recvchannel.transfer(cma_array_recv)"
   ]
  },
  {
   "cell_type": "markdown",
   "metadata": {},
   "source": [
    "The next cell will print out the data received from PL (streaming FIFO) to PS (DDR memory). This should be the same as the data we sent previously."
   ]
  },
  {
   "cell_type": "code",
   "execution_count": 13,
   "metadata": {},
   "outputs": [
    {
     "name": "stdout",
     "output_type": "stream",
     "text": [
      "0xcafe0000\n",
      "0xcafe0001\n",
      "0xcafe0002\n",
      "0xcafe0003\n",
      "0xcafe0004\n",
      "0xcafe0005\n",
      "0xcafe0006\n",
      "0xcafe0007\n",
      "0xcafe0008\n",
      "0xcafe0009\n"
     ]
    }
   ],
   "source": [
    "for i in range(data_size):\n",
    "    print('0x' + format(cma_array_recv[0][i], '02x'))"
   ]
  },
  {
   "cell_type": "code",
   "execution_count": 14,
   "metadata": {},
   "outputs": [
    {
     "name": "stdout",
     "output_type": "stream",
     "text": [
      "====  From memory to FIFO  ====\n",
      "MM to Stream Control: 0x11003\n",
      "             Binary : 0b10001000000000011\n",
      "MM to Stream Status : 0x1002\n",
      "             Binary : 0b1000000000010\n",
      "\n",
      "==== From FIFO to Memory ====\n",
      "Stream to MM Control: 0x11003\n",
      "             Binary : 0b10001000000000011\n",
      "Stream to MM Status : 0x1002\n",
      "             Binary : 0b1000000000010\n"
     ]
    }
   ],
   "source": [
    "print_dma_status()"
   ]
  },
  {
   "cell_type": "markdown",
   "metadata": {},
   "source": [
    "## 6. Free all the memory buffers\n",
    "Don't forget to free all the memory buffers to avoid memory leaks!"
   ]
  },
  {
   "cell_type": "code",
   "execution_count": 15,
   "metadata": {
    "collapsed": true
   },
   "outputs": [],
   "source": [
    "mmu.xlnk_reset()"
   ]
  }
 ],
 "metadata": {
  "kernelspec": {
   "display_name": "Python 3",
   "language": "python",
   "name": "python3"
  },
  "language_info": {
   "codemirror_mode": {
    "name": "ipython",
    "version": 3
   },
   "file_extension": ".py",
   "mimetype": "text/x-python",
   "name": "python",
   "nbconvert_exporter": "python",
   "pygments_lexer": "ipython3",
   "version": "3.6.0"
  }
 },
 "nbformat": 4,
 "nbformat_minor": 2
}
