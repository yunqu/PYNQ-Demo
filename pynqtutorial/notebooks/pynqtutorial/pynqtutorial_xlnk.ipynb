{
 "cells": [
  {
   "cell_type": "markdown",
   "metadata": {},
   "source": [
    "# PYNQ tutorial: Xlnk and Contiguous Memory Allocation\n",
    "\n",
    "`Xlnk()` can assign a contiguous block of memory. The data in the memory buffer can be transferred efficiently between the PS and the PL. \n",
    "\n",
    "Note: The `Xlnk()` driver is overlay-independent, meaning it can be used no matter what overlay you are using.\n",
    "\n",
    "## Preparation\n",
    "\n",
    "In the following cell we will define a couple of useful functions."
   ]
  },
  {
   "cell_type": "code",
   "execution_count": 1,
   "metadata": {
    "collapsed": true
   },
   "outputs": [],
   "source": [
    "import re\n",
    "from time import sleep\n",
    "from pprint import pprint\n",
    "\n",
    "def get_kb(mmu):\n",
    "    return int(mmu.cma_stats()['CMA Memory Available']//1024)\n",
    "\n",
    "def get_bufcount(mmu):\n",
    "    return int(memmanager.cma_stats()['Buffer Count'])\n",
    "\n",
    "def print_kb(mmu):\n",
    "    print(\"Available Memory (KB): \" + str(get_kb(mmu)))\n",
    "\n",
    "def print_virtual_address(virtual_ptr):\n",
    "    str1 = repr(virtual_ptr)\n",
    "    print(re.findall(r'0x[0-9A-F]+', str1, re.I)[0])\n",
    "\n",
    "def print_physical_address(physical_ptr):\n",
    "    print(\"0x\" + format(physical_ptr, '02x'))"
   ]
  },
  {
   "cell_type": "markdown",
   "metadata": {},
   "source": [
    "## Step 1: Create an instance of Xlnk\n",
    "Xlnk instance will be labeled `mmu` (Memory Management Unit) throughout this notebook."
   ]
  },
  {
   "cell_type": "code",
   "execution_count": 2,
   "metadata": {
    "collapsed": true
   },
   "outputs": [],
   "source": [
    "from pynq import Xlnk\n",
    "mmu = Xlnk()"
   ]
  },
  {
   "cell_type": "markdown",
   "metadata": {},
   "source": [
    "## Step 2: Check the status"
   ]
  },
  {
   "cell_type": "code",
   "execution_count": 3,
   "metadata": {},
   "outputs": [
    {
     "name": "stdout",
     "output_type": "stream",
     "text": [
      "{'Buffer Count': 0, 'CMA Memory Available': 37330944, 'CMA Memory Usage': 0}\n"
     ]
    }
   ],
   "source": [
    "pprint(mmu.cma_stats())"
   ]
  },
  {
   "cell_type": "markdown",
   "metadata": {},
   "source": [
    "## Step 3: Allocate the memory"
   ]
  },
  {
   "cell_type": "code",
   "execution_count": 4,
   "metadata": {},
   "outputs": [
    {
     "name": "stdout",
     "output_type": "stream",
     "text": [
      "Before memory allocation:\n",
      "Available Memory (KB): 36456\n",
      "After memory allocation:\n",
      "Available Memory (KB): 35464\n"
     ]
    }
   ],
   "source": [
    "print(\"Before memory allocation:\")\n",
    "print_kb(mmu)\n",
    "\n",
    "virtual_ptr = mmu.cma_alloc(1024*1024)\n",
    "\n",
    "print(\"After memory allocation:\")\n",
    "print_kb(mmu)"
   ]
  },
  {
   "cell_type": "markdown",
   "metadata": {},
   "source": [
    "## Step 4: Check the memory buffer address\n",
    "\n",
    "The virtual address can be used by Linux. The Physical address can be passed to a peripheral in the PL."
   ]
  },
  {
   "cell_type": "code",
   "execution_count": 5,
   "metadata": {},
   "outputs": [
    {
     "name": "stdout",
     "output_type": "stream",
     "text": [
      "Buffer pointer address (virtual memory):\n",
      "0x2f768000\n",
      "Buffer pointer address (physical memory):\n",
      "0x16900000\n"
     ]
    }
   ],
   "source": [
    "print(\"Buffer pointer address (virtual memory):\")\n",
    "print_virtual_address(virtual_ptr)\n",
    "\n",
    "physical_ptr = mmu.cma_get_phy_addr(virtual_ptr)\n",
    "\n",
    "print(\"Buffer pointer address (physical memory):\")\n",
    "print_physical_address(physical_ptr)"
   ]
  },
  {
   "cell_type": "markdown",
   "metadata": {},
   "source": [
    "## Step 5: Free the memory\n",
    "It is always a good practice to free the contiguous memory after use. This prevents memory leaks from the program."
   ]
  },
  {
   "cell_type": "code",
   "execution_count": 6,
   "metadata": {},
   "outputs": [
    {
     "name": "stdout",
     "output_type": "stream",
     "text": [
      "{'CMA Memory Available': 36773888, 'CMA Memory Usage': 0, 'Buffer Count': 0}\n"
     ]
    }
   ],
   "source": [
    "mmu.cma_free(virtual_ptr)\n",
    "sleep(1)\n",
    "print(mmu.cma_stats())"
   ]
  },
  {
   "cell_type": "code",
   "execution_count": 7,
   "metadata": {},
   "outputs": [
    {
     "name": "stdout",
     "output_type": "stream",
     "text": [
      "Available Memory (KB): 35912\n"
     ]
    }
   ],
   "source": [
    "print_kb(mmu)"
   ]
  },
  {
   "cell_type": "markdown",
   "metadata": {},
   "source": [
    "Note that there might be a difference between the currently available memory and the available memory before allocation. This is normal. The OS will eventually free up all the available memory."
   ]
  }
 ],
 "metadata": {
  "kernelspec": {
   "display_name": "Python 3",
   "language": "python",
   "name": "python3"
  },
  "language_info": {
   "codemirror_mode": {
    "name": "ipython",
    "version": 3
   },
   "file_extension": ".py",
   "mimetype": "text/x-python",
   "name": "python",
   "nbconvert_exporter": "python",
   "pygments_lexer": "ipython3",
   "version": "3.6.0"
  }
 },
 "nbformat": 4,
 "nbformat_minor": 1
}
